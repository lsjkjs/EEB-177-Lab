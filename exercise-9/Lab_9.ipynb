{
 "cells": [
  {
   "cell_type": "markdown",
   "metadata": {},
   "source": [
    "**To Do**\n",
    "1. \n",
    "There 2946 fossils inclueded in this dataset\n",
    "2. \n",
    "614 fossils are labeled to the genus level.\n",
    "2107 fossils are labeled to the species level.\n",
    "3. \n",
    "There are 2405 unique names in this data set. "
   ]
  },
  {
   "cell_type": "markdown",
   "metadata": {},
   "source": [
    "**To Do**\n",
    "\n",
    "1. We can change the sampling frequency with the -s flag and writing the number of sampling frequency for the run\n",
    "2. -n flag achieves how many mcmc genrations you want to run in Pyrate"
   ]
  },
  {
   "cell_type": "markdown",
   "metadata": {},
   "source": [
    "**To Do**\n",
    "1. canid_occ_1_marginal_rates.log shows a tab-separated table with the posterior samples of the marginal rates of speciation, extinction, and net diversification, calculated within 1 time unit.\n",
    "2. canid_occ_1_mcmc.log contains information about the mcmc samples of posterior, prior, likelihoods of the preservation process and of the birth-death, the preservation rate, the number of sampled rate shifts, the value of scaling factor, and the time of origin of the oldest lineage.\n",
    "3. canid_occ_1_sum.txt shows information about the marginal likelihood of a birth-death model estimated by TI."
   ]
  },
  {
   "cell_type": "code",
   "execution_count": null,
   "metadata": {
    "collapsed": true
   },
   "outputs": [],
   "source": []
  }
 ],
 "metadata": {
  "anaconda-cloud": {},
  "kernelspec": {
   "display_name": "Python [default]",
   "language": "python",
   "name": "python3"
  },
  "language_info": {
   "codemirror_mode": {
    "name": "ipython",
    "version": 3
   },
   "file_extension": ".py",
   "mimetype": "text/x-python",
   "name": "python",
   "nbconvert_exporter": "python",
   "pygments_lexer": "ipython3",
   "version": "3.5.2"
  }
 },
 "nbformat": 4,
 "nbformat_minor": 2
}
