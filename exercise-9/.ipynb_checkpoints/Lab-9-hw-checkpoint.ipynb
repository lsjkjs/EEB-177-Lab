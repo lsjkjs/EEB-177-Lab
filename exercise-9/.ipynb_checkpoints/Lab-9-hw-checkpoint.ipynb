{
 "cells": [
  {
   "cell_type": "markdown",
   "metadata": {},
   "source": [
    "**1. **\n",
    "\n",
    "a. Describe the changes in Speciation rates across the Canidae lineage. \n",
    "   \n",
    "The speciation rate starts at about 0.3, but makes a dip around 30 ma. It takes a further dip to 0.1 around 15   ma, but rises back up to 0.3 around 5 ma and maintains that rate.\n",
    "   \n",
    "b. Describe the changes in Extinction rates across the Canidae lineage. \n",
    "\n",
    "The extinction rate increases very slowly at 0.1 until about 5 ma, but then peaks very steeply to about 1.2.\n",
    "  \n",
    "c. Describe the changes in Diversification rates across the Canidae lineage.\n",
    "\n",
    "The diversification rates fluctuates but overall decreases until about 5 ma (reamining positive). It then increases slightly at around 5 ma, but decreases abrutly to about -1.0."
   ]
  },
  {
   "cell_type": "markdown",
   "metadata": {},
   "source": [
    "**6**\n",
    "\n",
    "Compared to the RTT plot made with only 250000 steps in the MCMC chain, the plot made with 2500000 steps does not have major differences. The overall trends look the same in the speciation, extinctin, and diversification rates. One small difference is that the speciation plot made with 2500000 steps only have one dip while the speication plot with only 250000 steps have two dips.\n"
   ]
  },
  {
   "cell_type": "code",
   "execution_count": null,
   "metadata": {
    "collapsed": true
   },
   "outputs": [],
   "source": []
  }
 ],
 "metadata": {
  "anaconda-cloud": {},
  "kernelspec": {
   "display_name": "Python [default]",
   "language": "python",
   "name": "python3"
  },
  "language_info": {
   "codemirror_mode": {
    "name": "ipython",
    "version": 3
   },
   "file_extension": ".py",
   "mimetype": "text/x-python",
   "name": "python",
   "nbconvert_exporter": "python",
   "pygments_lexer": "ipython3",
   "version": "3.5.2"
  }
 },
 "nbformat": 4,
 "nbformat_minor": 2
}
