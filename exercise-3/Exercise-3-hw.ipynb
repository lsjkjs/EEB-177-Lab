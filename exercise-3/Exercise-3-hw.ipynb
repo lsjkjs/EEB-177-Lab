{
 "cells": [
  {
   "cell_type": "code",
   "execution_count": 1,
   "metadata": {
    "collapsed": true
   },
   "outputs": [],
   "source": [
    "#2.\n",
    "\n",
    "a = 3\n",
    "b = 17\n",
    "c = a + b\n",
    "\n",
    "favorite_animal = \"koala\"\n",
    "favorite_dinners = [\"steak\", \"spaghetti\", \"pizza\"]\n",
    "num_fav_dinners = len(favorite_dinners)\n"
   ]
  },
  {
   "cell_type": "code",
   "execution_count": null,
   "metadata": {
    "collapsed": false
   },
   "outputs": [],
   "source": [
    "#3.\n",
    "\n",
    "def hw3_function(integer):\n",
    "    if type(integer)==int:\n",
    "        if integer < 5:\n",
    "            return(\"Brr! It's cold!\")\n",
    "        elif integer > 25:\n",
    "            return(\"It's pretty warm!\")\n",
    "        elif (integer >=5 & integer <= 25):\n",
    "            return(\"What a pleasant temperature!\")\n",
    "    else:\n",
    "        print(\"Error!\")\n"
   ]
  },
  {
   "cell_type": "code",
   "execution_count": 14,
   "metadata": {
    "collapsed": false
   },
   "outputs": [],
   "source": [
    "#4.\n",
    "\n",
    "import re\n",
    "\n",
    "dna = \"ATAATTAACGGAGCTTATTA\"\n",
    "if re.search(r\"G(A|T)(A|T)G(A|T|G|C)\", dna):\n",
    "    print(\"restriction site found!\")"
   ]
  },
  {
   "cell_type": "code",
   "execution_count": null,
   "metadata": {
    "collapsed": true
   },
   "outputs": [],
   "source": []
  }
 ],
 "metadata": {
  "anaconda-cloud": {},
  "kernelspec": {
   "display_name": "Python [default]",
   "language": "python",
   "name": "python3"
  },
  "language_info": {
   "codemirror_mode": {
    "name": "ipython",
    "version": 3
   },
   "file_extension": ".py",
   "mimetype": "text/x-python",
   "name": "python",
   "nbconvert_exporter": "python",
   "pygments_lexer": "ipython3",
   "version": "3.5.2"
  }
 },
 "nbformat": 4,
 "nbformat_minor": 2
}
