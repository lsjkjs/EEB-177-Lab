{
 "cells": [
  {
   "cell_type": "code",
   "execution_count": 64,
   "metadata": {
    "collapsed": false
   },
   "outputs": [],
   "source": [
    "import re\n",
    "\n",
    "in_file = open(\"/home/eeb177-student/Desktop/eeb-177/CSB/unix/data/Marra2014_data.fasta\")\n",
    "#import data\n",
    "\n",
    "contig_list = []\n",
    "AATG_number = []\n",
    "#define lists\n",
    "\n",
    "for line in in_file:     #cut contig_name and put it in list\n",
    "    if (re.match(pattern=\">\", string=line)):\n",
    "        contig_name = re.search(\">(\\w*)\\s.*\", line).group(1)\n",
    "        contig_list.append(contig_name)\n",
    "\n",
    "with open(\"/home/eeb177-student/Desktop/eeb-177/CSB/unix/data/Marra2014_data.fasta\") as file:\n",
    "    file1 = file.read()\n",
    "    file1 = file1.upper()\n",
    "    file_contig = file1.replace(\"\\n\", \"\")\n",
    "    file_contig = file_contig.split(\">\")\n",
    "    AATG_list = []\n",
    "    for line in file_contig: #find AATGs and put them in list \n",
    "        AATG = re.findall(\"AATG\", str(line))\n",
    "        AATG_list.append(AATG)\n",
    "AATG_list.remove(AATG_list[0]) # remove first element (empty)\n",
    "\n",
    "for element in range(955):    # append length of each list in AATG_number\n",
    "    number = len(AATG_list[element])\n",
    "    AATG_number.append(number)\n",
    "\n",
    "contig_dict = dict(zip(contig_list, AATG_number)) #put the two lists in dictionary\n",
    "\n",
    "output = open(\"/home/eeb177-student/Desktop/eeb-177/lab-work/exercise-5/python_ex/contig.csv\", \"w\")\n",
    "\n",
    "i=0\n",
    "while i<955:      #output file \n",
    "    output.write(contig_list[i]+\",\"+str(AATG_number[i])+\"\\n\")\n",
    "    i = i+1\n",
    "\n"
   ]
  },
  {
   "cell_type": "code",
   "execution_count": null,
   "metadata": {
    "collapsed": false
   },
   "outputs": [],
   "source": []
  },
  {
   "cell_type": "code",
   "execution_count": null,
   "metadata": {
    "collapsed": true
   },
   "outputs": [],
   "source": []
  }
 ],
 "metadata": {
  "anaconda-cloud": {},
  "kernelspec": {
   "display_name": "Python [default]",
   "language": "python",
   "name": "python3"
  },
  "language_info": {
   "codemirror_mode": {
    "name": "ipython",
    "version": 3
   },
   "file_extension": ".py",
   "mimetype": "text/x-python",
   "name": "python",
   "nbconvert_exporter": "python",
   "pygments_lexer": "ipython3",
   "version": "3.5.2"
  }
 },
 "nbformat": 4,
 "nbformat_minor": 2
}
