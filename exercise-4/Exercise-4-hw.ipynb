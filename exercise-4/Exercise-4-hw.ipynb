{
 "cells": [
  {
   "cell_type": "code",
   "execution_count": 1,
   "metadata": {
    "collapsed": false
   },
   "outputs": [
    {
     "name": "stdout",
     "output_type": "stream",
     "text": [
      "100\n",
      "101\n",
      "102\n",
      "103\n",
      "104\n",
      "105\n",
      "106\n",
      "107\n",
      "108\n",
      "109\n",
      "110\n"
     ]
    }
   ],
   "source": [
    "#1. A for-loop that prints out the numbers from 100 to 110\n",
    "\n",
    "for number in range(100, 111, 1):\n",
    "    print(number)"
   ]
  },
  {
   "cell_type": "code",
   "execution_count": 2,
   "metadata": {
    "collapsed": false
   },
   "outputs": [
    {
     "name": "stdout",
     "output_type": "stream",
     "text": [
      "100\n",
      "101\n",
      "102\n",
      "103\n",
      "104\n",
      "105\n",
      "106\n",
      "107\n",
      "108\n",
      "109\n",
      "110\n"
     ]
    }
   ],
   "source": [
    "#2. A while-loop that prints out the numbers from 100 to 110\n",
    "\n",
    "number = 100\n",
    "while number < 111:\n",
    "    print(number)\n",
    "    number = number +1\n",
    "    "
   ]
  },
  {
   "cell_type": "code",
   "execution_count": 3,
   "metadata": {
    "collapsed": false
   },
   "outputs": [
    {
     "name": "stdout",
     "output_type": "stream",
     "text": [
      "100\n",
      "121\n",
      "144\n",
      "169\n",
      "196\n",
      "225\n"
     ]
    }
   ],
   "source": [
    "#3. Loop that prints out the squares of the numbers from 10-15.\n",
    "\n",
    "for number in range(10, 16, 1):\n",
    "    square = number**2\n",
    "    print(square)"
   ]
  },
  {
   "cell_type": "code",
   "execution_count": 5,
   "metadata": {
    "collapsed": false
   },
   "outputs": [
    {
     "name": "stdout",
     "output_type": "stream",
     "text": [
      "Scooby is a character in that most glorious of cartoons Scooby Doo.\n",
      "Shaggy is a character in that most glorious of cartoons Scooby Doo.\n",
      "Velma is a character in that most glorious of cartoons Scooby Doo.\n",
      "Daphne is a character in that most glorious of cartoons Scooby Doo.\n",
      "Fred is a character in that most glorious of cartoons Scooby Doo.\n"
     ]
    }
   ],
   "source": [
    "#4. \n",
    "\n",
    "list = [\"Scooby\", \"Shaggy\", \"Velma\", \"Daphne\", \"Fred\"] \n",
    "for character in list:\n",
    "    print(character + \" is a character in that most glorious of cartoons Scooby Doo.\")"
   ]
  },
  {
   "cell_type": "code",
   "execution_count": 45,
   "metadata": {
    "collapsed": false
   },
   "outputs": [],
   "source": [
    "#5.\n",
    "# When an odd number is inputted, the function takes the factorial of that number\n",
    "# When an even number is inputted, the function add the number and all numbers below it\n",
    "\n",
    "def fact_or_sum(integer):\n",
    "    if type(integer) != int:\n",
    "        return(\"Error! Please input an integer\")\n",
    "    elif integer==0:\n",
    "        return(0)\n",
    "    elif integer % 2 != 0:\n",
    "        factorial = 1\n",
    "        for n in range(1, integer+1, 1):\n",
    "            factorial = factorial*n\n",
    "        print(factorial)\n",
    "    elif integer % 2 == 0:\n",
    "        sum = 0\n",
    "        while integer > 0:\n",
    "            sum = sum + integer\n",
    "            integer = integer-1 \n",
    "        print(sum)\n"
   ]
  },
  {
   "cell_type": "code",
   "execution_count": null,
   "metadata": {
    "collapsed": false
   },
   "outputs": [],
   "source": []
  },
  {
   "cell_type": "code",
   "execution_count": null,
   "metadata": {
    "collapsed": true
   },
   "outputs": [],
   "source": []
  }
 ],
 "metadata": {
  "anaconda-cloud": {},
  "kernelspec": {
   "display_name": "Python [default]",
   "language": "python",
   "name": "python3"
  },
  "language_info": {
   "codemirror_mode": {
    "name": "ipython",
    "version": 3
   },
   "file_extension": ".py",
   "mimetype": "text/x-python",
   "name": "python",
   "nbconvert_exporter": "python",
   "pygments_lexer": "ipython3",
   "version": "3.5.2"
  }
 },
 "nbformat": 4,
 "nbformat_minor": 2
}
